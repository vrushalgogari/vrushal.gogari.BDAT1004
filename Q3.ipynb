{
 "cells": [
  {
   "cell_type": "code",
   "execution_count": 1,
   "id": "b4c1b012",
   "metadata": {},
   "outputs": [],
   "source": [
    "using System;\n",
    "public class TriangleArea\n",
    "{\n",
    "\tpublic static void Main()\n",
    "    {\n",
    "    \tint s1 = 2 , s2 = 2 , s3 = 2 ;\n",
    "        Console.WriteLine($\"Value of side1 = {s1}, side2 = {s2}, side3 = {s3}\");\n",
    "        double s = (s1 + s2 + s3) / 2;\n",
    "        double Area = Math.Sqrt(s * (s - s1) * (s - s2) * (s - s3));\n",
    "        Console.WriteLine(\"Area of Triangle is = \" + Area);\n",
    "        Console.ReadLine();\n",
    "    }\n",
    "  }"
   ]
  }
 ],
 "metadata": {
  "kernelspec": {
   "display_name": ".NET (C#)",
   "language": "C#",
   "name": ".net-csharp"
  },
  "language_info": {
   "file_extension": ".cs",
   "mimetype": "text/x-csharp",
   "name": "C#",
   "pygments_lexer": "csharp",
   "version": "8.0"
  }
 },
 "nbformat": 4,
 "nbformat_minor": 5
}
