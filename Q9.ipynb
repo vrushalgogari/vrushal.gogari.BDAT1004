{
 "cells": [
  {
   "cell_type": "code",
   "execution_count": null,
   "id": "85547dcb",
   "metadata": {},
   "outputs": [],
   "source": [
    "    QUESTIONS                                                                                                               ANSWERS\n",
    "\n",
    "1) Trying to add incompatible variables, as in adding 6 + ‘a’                                                       \tUnsupported type\n",
    "2) Referring to the 12th item of a list that has only 10 items                                                      \tOut of index\n",
    "3) Using a value that is out of range for a function’s input, such as calling math.sqrt(-1.0  )                     \tdomain error\n",
    "4) Using an undeclared variable, such as print(x) when x has not been defined                                       \tvariable not defined\n",
    "5) Trying to open a file that does not exist, such as mistyping the file name or looking in the wrong directory.    \tNo such directory found"
   ]
  }
 ],
 "metadata": {
  "kernelspec": {
   "display_name": "Python 3 (ipykernel)",
   "language": "python",
   "name": "python3"
  },
  "language_info": {
   "codemirror_mode": {
    "name": "ipython",
    "version": 3
   },
   "file_extension": ".py",
   "mimetype": "text/x-python",
   "name": "python",
   "nbconvert_exporter": "python",
   "pygments_lexer": "ipython3",
   "version": "3.9.12"
  }
 },
 "nbformat": 4,
 "nbformat_minor": 5
}
