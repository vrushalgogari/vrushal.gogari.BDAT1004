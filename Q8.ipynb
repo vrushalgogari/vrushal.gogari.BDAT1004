{
 "cells": [
  {
   "cell_type": "code",
   "execution_count": 17,
   "id": "8b1bedaa",
   "metadata": {},
   "outputs": [],
   "source": [
    "def currencyconverter(currency,amount):\n",
    "    currencies = {}\n",
    "    \n",
    "    #reading the file\n",
    "    cur_file = open('currencies.txt')\n",
    "    lines = cur_file.readlines()\n",
    "    \n",
    "    #storing the currency in the key and it's corresponding $ value and name in value.\n",
    "    for x in lines:\n",
    "        currencies[x[:3].strip()] = x[4:].split(\"\\t\")\n",
    "    value = currencies[currency][0].strip()\n",
    "    print(amount * float(value))"
   ]
  },
  {
   "cell_type": "raw",
   "id": "1db4ca09",
   "metadata": {},
   "source": []
  },
  {
   "cell_type": "code",
   "execution_count": 18,
   "id": "141d49de",
   "metadata": {},
   "outputs": [
    {
     "name": "stdout",
     "output_type": "stream",
     "text": [
      "245.93088\n"
     ]
    }
   ],
   "source": [
    "currencyconverter('EUR',200)"
   ]
  },
  {
   "cell_type": "code",
   "execution_count": 19,
   "id": "6ae9810b",
   "metadata": {},
   "outputs": [
    {
     "name": "stdout",
     "output_type": "stream",
     "text": [
      "5.32929\n"
     ]
    }
   ],
   "source": [
    "currencyconverter('INR',300)"
   ]
  },
  {
   "cell_type": "code",
   "execution_count": null,
   "id": "e26c1188",
   "metadata": {},
   "outputs": [],
   "source": []
  }
 ],
 "metadata": {
  "kernelspec": {
   "display_name": "Python 3 (ipykernel)",
   "language": "python",
   "name": "python3"
  },
  "language_info": {
   "codemirror_mode": {
    "name": "ipython",
    "version": 3
   },
   "file_extension": ".py",
   "mimetype": "text/x-python",
   "name": "python",
   "nbconvert_exporter": "python",
   "pygments_lexer": "ipython3",
   "version": "3.9.12"
  }
 },
 "nbformat": 4,
 "nbformat_minor": 5
}
