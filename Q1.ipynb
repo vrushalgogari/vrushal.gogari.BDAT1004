{
 "cells": [
  {
   "cell_type": "markdown",
   "id": "d62c83e2",
   "metadata": {},
   "source": [
    "1. 5                          :integer\n",
    "2. 5.0                        :float (double)\n",
    "3. 5 > 1                      :boolean\n",
    "4. \"5\"                        :string\n",
    "5. 5 * 2                      :integer\n",
    "6. \"5\" * 2                    :string\n",
    "7. \"5\" + \"2\"                  :string\n",
    "8. 5 / 2                      :float\n",
    "9. 5 % 2                      :integer\n",
    "0. {5, 2, 1}                  :integer array\n",
    "11. 5 == 3                    :boolean\n",
    "12. Pi                        :float (double)"
   ]
  },
  {
   "cell_type": "code",
   "execution_count": null,
   "id": "d8f56323",
   "metadata": {},
   "outputs": [],
   "source": []
  }
 ],
 "metadata": {
  "kernelspec": {
   "display_name": "Python 3 (ipykernel)",
   "language": "python",
   "name": "python3"
  },
  "language_info": {
   "codemirror_mode": {
    "name": "ipython",
    "version": 3
   },
   "file_extension": ".py",
   "mimetype": "text/x-python",
   "name": "python",
   "nbconvert_exporter": "python",
   "pygments_lexer": "ipython3",
   "version": "3.9.12"
  }
 },
 "nbformat": 4,
 "nbformat_minor": 5
}
