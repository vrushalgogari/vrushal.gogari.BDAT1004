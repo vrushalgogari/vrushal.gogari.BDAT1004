{
 "cells": [
  {
   "cell_type": "markdown",
   "id": "9f71ffed",
   "metadata": {},
   "source": [
    "# a. How many letters are there in 'Supercalifragilisticexpialidocious'?"
   ]
  },
  {
   "cell_type": "code",
   "execution_count": 1,
   "id": "00b387cb",
   "metadata": {},
   "outputs": [
    {
     "name": "stdout",
     "output_type": "stream",
     "text": [
      "There are  34 letters in Supercalifragilisticexpialidocious\n"
     ]
    }
   ],
   "source": [
    "string = 'Supercalifragilisticexpialidocious';\n",
    "length = len(string);\n",
    "print(\"There are \",length,\"letters in Supercalifragilisticexpialidocious\")"
   ]
  },
  {
   "cell_type": "markdown",
   "id": "104f7af8",
   "metadata": {},
   "source": [
    "# b. Does 'Supercalifragilisticexpialidocious' contain 'ice' as a substring?"
   ]
  },
  {
   "cell_type": "code",
   "execution_count": 5,
   "id": "b31074c5",
   "metadata": {},
   "outputs": [
    {
     "name": "stdout",
     "output_type": "stream",
     "text": [
      "ice is present in string\n"
     ]
    }
   ],
   "source": [
    "stringd = 'Supercalifragilisticexpialidocious';\n",
    "if 'ice' in stringd:\n",
    " print(\"ice is present in string\")\n",
    "else:\n",
    " print(\"not present\")"
   ]
  },
  {
   "cell_type": "markdown",
   "id": "f4fbf6d4",
   "metadata": {},
   "source": [
    "# c. Which of the following words is the longest: Supercalifragilisticexpialidocious, Honorificabilitudinitatibus, or Bababadalgharaghtakamminarronnkonn?"
   ]
  },
  {
   "cell_type": "code",
   "execution_count": 6,
   "id": "4b1bf6ef",
   "metadata": {},
   "outputs": [
    {
     "name": "stdout",
     "output_type": "stream",
     "text": [
      "Supercalifragilisticexpialidocious is longest word\n"
     ]
    }
   ],
   "source": [
    "stringA = 'Supercalifragilisticexpialidocious';\n",
    "stringB = 'Honorificabilitudinitatibus';\n",
    "stringC = 'Bababadalgharaghtakamminarronnkonn';\n",
    "if len(stringA) >= len(stringB) and len(stringA) >=len(stringC):\n",
    "    print('Supercalifragilisticexpialidocious is longest word')\n",
    "    \n",
    "elif len(stringB) >= len(stringA) and len(stringB) >= len(stringC):\n",
    "    print('Honorificabilitudinitatibus is longest word')\n",
    "    \n",
    "else:\n",
    "    print('Bababadalgharaghtakamminarronnkonn is longest word')"
   ]
  },
  {
   "cell_type": "markdown",
   "id": "67da23d8",
   "metadata": {},
   "source": [
    "# d. Which composer comes first in the dictionary: 'Berlioz', 'Borodin', 'Brian', 'Bartok', 'Bellini', 'Buxtehude', 'Bernstein'. Which one comes last?"
   ]
  },
  {
   "cell_type": "code",
   "execution_count": 7,
   "id": "521b3ed9",
   "metadata": {},
   "outputs": [
    {
     "name": "stdout",
     "output_type": "stream",
     "text": [
      "Bartok comes first in the dictionary.\n",
      "Buxtehude comes last in the dictionary.\n"
     ]
    }
   ],
   "source": [
    "composersDictionary = ['Berlioz', 'Borodin','Brian', 'Bartok', 'Bellini', 'Buxtehude', 'Bernstein']\n",
    "composersDictionary.sort() \n",
    "print(composersDictionary[0], \"comes first in the dictionary.\")\n",
    "print(composersDictionary[6], \"comes last in the dictionary.\")"
   ]
  },
  {
   "cell_type": "code",
   "execution_count": null,
   "id": "e42d5579",
   "metadata": {},
   "outputs": [],
   "source": []
  }
 ],
 "metadata": {
  "kernelspec": {
   "display_name": "Python 3 (ipykernel)",
   "language": "python",
   "name": "python3"
  },
  "language_info": {
   "codemirror_mode": {
    "name": "ipython",
    "version": 3
   },
   "file_extension": ".py",
   "mimetype": "text/x-python",
   "name": "python",
   "nbconvert_exporter": "python",
   "pygments_lexer": "ipython3",
   "version": "3.9.12"
  }
 },
 "nbformat": 4,
 "nbformat_minor": 5
}
